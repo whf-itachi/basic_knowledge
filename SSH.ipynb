{
 "cells": [
  {
   "cell_type": "markdown",
   "metadata": {},
   "source": [
    "# SSH"
   ]
  },
  {
   "cell_type": "markdown",
   "metadata": {},
   "source": [
    "### 什么是SSH\n",
    "\n",
    "简单来说，SSH是一种网络协议，用于计算机之间的加密登录。如果一个用户从本地计算机，使用SSH协议登录另一台远程计算机，我们就可以认为，这种登录是安全的，即使中途被截获密码也不会泄露。\n",
    "\n",
    "1995年，芬兰学者Tatu Ylonen设计了SSH协议，将登录信息全部加密，成为互联网安全的一个基本解决方案，迅速在全世界获得推广，目前已经成为Linux系统的标准配置。\n",
    "\n",
    "SSH只是一种协议，存在多种实现，既有商业实现，也有开源实现。本文针对的实现是OpenSSH，它是自由软件，应用非常广泛。这里只讨论SSH在Linux Shell中的用法。如果要在Windows系统中使用SSH，会用到另一种软件PuTTY，这需要另文介绍。\n",
    "\n",
    "### 中间人攻击\n",
    "\n",
    "SSH之所以能够保证安全，原因在于它采取了公钥加密。\n",
    "\n",
    "整个过程如下：\n",
    "\n",
    "1. 远程主机收到用户的登录请求，把自己的公钥发给用户。\n",
    "2. 用户使用这个公钥将登录密码加密后，发送回来。\n",
    "3. 远程主机用自己的私钥，解密登录密码，如果密码正确就同意用户登录。\n",
    "\n",
    "这个过程本身是安全的，但是实施时候存在一个风险：如果有人截获了登录请求，然后冒充远程主机，将伪造的公钥发给用户，那么用户很难辨别真伪。因为这不像https协议，SSH协议的公钥是没有证书中心公证的，也就是说，都是自己签发的。\n",
    "\n",
    "可以设想，如果攻击者插在用户与远程主机之间（比如在公共的wifi区域），用伪造的公钥，获取用户的登录密码。再用这个密码登录远程主机，那么SSH的安全机制就荡然无存了。这种风险就是著名的**中间人攻击**（Man-in-the-middle attack)。\n",
    "\n",
    "\n"
   ]
  },
  {
   "cell_type": "markdown",
   "metadata": {},
   "source": [
    "### SSH的安装\n",
    "\n",
    "SSH分客户端openssh-client和openssh-server\n",
    "\n",
    "如果你只想登录别的机器的SSH只需要安装openssh-client（ubuntu有默认安装），如果要是本机开放SSH服务就需要安装openssh-server。\n"
   ]
  },
  {
   "cell_type": "markdown",
   "metadata": {},
   "source": [
    "### SSH的基本用法\n",
    "\n",
    "口令登录：\n",
    "假定你以用户名user，登录远程主机host，只要一条命令就ok了。\n",
    "`$ssh user@host` 例如：`ssh user@192.168.0.111`\n",
    "\n",
    "SSH的默认端口是22，也就是所你的登录请求会送进远程主机的22端口。使用p参数可以修改这个端口：\n",
    "`$ssh -p 33 user@hos`\n"
   ]
  },
  {
   "cell_type": "code",
   "execution_count": null,
   "metadata": {},
   "outputs": [],
   "source": []
  }
 ],
 "metadata": {
  "kernelspec": {
   "display_name": "Python 3",
   "language": "python",
   "name": "python3"
  },
  "language_info": {
   "codemirror_mode": {
    "name": "ipython",
    "version": 3
   },
   "file_extension": ".py",
   "mimetype": "text/x-python",
   "name": "python",
   "nbconvert_exporter": "python",
   "pygments_lexer": "ipython3",
   "version": "3.6.7"
  }
 },
 "nbformat": 4,
 "nbformat_minor": 2
}
