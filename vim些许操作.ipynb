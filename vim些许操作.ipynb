{
 "cells": [
  {
   "cell_type": "markdown",
   "metadata": {},
   "source": [
    "# vim常用复制粘贴命令\n",
    "\n",
    "Vim的复制粘贴命令无疑是 y,p,加上yy,P\n",
    "\n",
    "PS(附言:postscript):\n",
    "\n",
    "    Vim中有一个很有意思的约定,就是某个命令的大小写都是实现某种功能,只是方向不同,比如:\n",
    "   > w :跳转到下一个world, W :跳转到上一个world\n",
    "   > \n",
    "   > f 某行正方向查找并跳转, F :反向查找并跳转\n",
    "\n",
    "然后部分双写的字母有行操作:\n",
    "\n",
    "> yy :复制一行\n",
    "> \n",
    "> dd :删除一行\n",
    "\n",
    "所以：\n",
    "\n",
    "> p 就是在当前光标后粘贴, P 就是子啊当前光标前粘贴\n",
    "\n",
    "\n",
    "# Vim的寄存器和系统剪贴板\n",
    "\n",
    "### 寄存器简介\n",
    "\n",
    "vim的强大之处之一就是自带一堆寄存器,每个寄存器独立使用.你可以在不同寄存器中存储不同数据,命令.你可以把这想象成一个加强版的剪贴板,当然它的功能不止剪贴板这么简单.\n",
    "\n",
    "根据官方手册:vim有9种寄存器\n",
    "\n",
    "1. The unnamed register \"\"\n",
    "2. 10 numbered registers \"0 to \"9\n",
    "3. The small delete register \"-\n",
    "4. 26 named registers \"a to \"z or \"A to \"Z \n",
    "5. four read-only registers \":, \"., \"% and \"#\n",
    "6. the expression register \"=\n",
    "7. The selection and drop registers \"*, \"+ and \"~ \n",
    "8. The black hole register \"_\n",
    "9. Last search pattern register \"/\n",
    "\n",
    "**解释**\n",
    "1. 无名寄存器(unnamed): \"\" ,缓存最后一次操作内容;\n",
    "2. 数字寄存器(numbered): \"0~9\",缓存最近操作内容,复制与删除有别,\"0 寄存器缓存最近一次复制的内容, \"1-\"9 缓存最近9次删除的内容;\n",
    "\n",
    "7. 选择及拖拽寄存器(selection and drop): \"* , \"+ , \"~ ,存取GUI选择文本,可用于与外部应用交互,使用前提为系统剪切板(clipboard)可用;\n",
    "\n",
    "**使用方式就是:**\n",
    "1. 在vim中使用 \"+等命令调用寄存器,然后使用 复制剪切等命令将内容操作到寄存器中.\n",
    "2. 在vim之外的地方使用 正常的粘贴命令即可将 寄存器中的内容粘贴下来"
   ]
  },
  {
   "cell_type": "markdown",
   "metadata": {},
   "source": []
  },
  {
   "cell_type": "code",
   "execution_count": null,
   "metadata": {},
   "outputs": [],
   "source": []
  },
  {
   "cell_type": "code",
   "execution_count": null,
   "metadata": {},
   "outputs": [],
   "source": []
  },
  {
   "cell_type": "code",
   "execution_count": null,
   "metadata": {},
   "outputs": [],
   "source": []
  }
 ],
 "metadata": {
  "kernelspec": {
   "display_name": "Python 3",
   "language": "python",
   "name": "python3"
  },
  "language_info": {
   "codemirror_mode": {
    "name": "ipython",
    "version": 3
   },
   "file_extension": ".py",
   "mimetype": "text/x-python",
   "name": "python",
   "nbconvert_exporter": "python",
   "pygments_lexer": "ipython3",
   "version": "3.6.7"
  }
 },
 "nbformat": 4,
 "nbformat_minor": 2
}
