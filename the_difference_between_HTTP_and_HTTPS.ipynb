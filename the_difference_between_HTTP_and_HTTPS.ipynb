{
 "cells": [
  {
   "cell_type": "markdown",
   "metadata": {},
   "source": [
    "# 非对称加密"
   ]
  },
  {
   "cell_type": "markdown",
   "metadata": {},
   "source": [
    "### 公钥加密、私钥签名\n",
    "\n",
    "在非对称加密中，原理是公钥加密的需要私钥解密，而私钥加密的需要用公钥解密。但是呢，对一般应用而言：公钥是公布出去的，每个客户端都有。私钥是自己保留的绝对隐秘。所以客户端发给服务器的信息就用服务端的公钥加密，就只能有服务端的私钥才能解密，这就是公钥加密。私钥是服务端独有的，所以服务端发出的信息，只有客户端持有相应的公钥才能解密，所以就唯一了信息的发出者，这就是私钥用来签名。"
   ]
  },
  {
   "cell_type": "markdown",
   "metadata": {},
   "source": [
    "# HTTP和HTTPS基本概念"
   ]
  },
  {
   "cell_type": "markdown",
   "metadata": {},
   "source": [
    "HTTP：是互联网上应用最为广泛的一种网络协议，是一个客户端和服务器请求和应答的标准（TCP),用于从WWW服务器传输超文本到本地浏览器的传输协议，它可以使浏览器更加高效使网络传输减少。\n",
    "\n",
    "HTTPS：是以安全为目标的HTTP通道，简单讲是HTTP的安全版，即HTTP下加入SSL层，HTTPS的加密基础就是SSL。\n",
    "\n",
    "HTTPS协议的主要作用可以分为两种：一种是建立一个信息安全通道，来保证数据传输的安全；另一种就是确认网站的真实性。"
   ]
  },
  {
   "cell_type": "markdown",
   "metadata": {},
   "source": [
    "# HTTP和HTTPS的区别"
   ]
  },
  {
   "cell_type": "markdown",
   "metadata": {},
   "source": [
    "HTTP协议传输的数据都是未加密的，也就是明文，因此使用HTTP传输的隐私信息是非常不安全的。为了应为这种情况就诞生了HTTPS，简单来说，HTTPS协议是由SSL+HTTP协议构建的可以进行加密传输、身份认证的网络协议，要比HTTP协议安全。\n",
    "\n",
    "HTTP和HTTPS主要区别如下：\n",
    "\n",
    "1. HTTPS协议需要到CA申请证书，因此需要一定的费用；\n",
    "2. HTTP是超文本传输协议，信息是明文传输的，HTTPS则是具有安全性的SSL加密传输协议；\n",
    "3. HTTP和HTTPS使用的是完全不同的连接方式，用的端口也不一样，HTTP是80，HTTPS是443；\n",
    "4. HTTP的连接很简单，是无状态的。HTTPS协议是有SSL+HTTP协议构建的比HTTP协议安全；\n"
   ]
  },
  {
   "cell_type": "markdown",
   "metadata": {},
   "source": [
    "# HTTPS的工作原理"
   ]
  },
  {
   "cell_type": "markdown",
   "metadata": {},
   "source": [
    "我们都知道HTTPS能够加密信息，以免敏感信息被第三方获取，所以很多银行网站或电子邮箱等安全级别较高的服务都会采用HTTPS协议。\n",
    "\n",
    "客户端在使用HTTPS方式与Web服务器通信时有一下几个步骤：\n",
    "\n",
    "1. 客户使用HTTPS的URL访问Web服务器，要求与Web服务器建立SSL连接。\n",
    "2. Web服务器收到客户端请求后，会将网站的证书信息(证书中包含公钥）传送一份给客户端。\n",
    "3. 客户端的浏览器与Web服务器开始协商SSL连接的安全等级，也就是信息加密的等级。\n",
    "4. 客户端的浏览器会根据双方同意的安全等级建立回话秘钥，然后利用网站的公钥将会话密钥加密并传送给网站。\n",
    "5. Web服务器利用自己的私钥解密出会话秘钥。\n",
    "6. Web服务器利用会话秘钥加密与客户端之间的通信。\n"
   ]
  },
  {
   "cell_type": "markdown",
   "metadata": {},
   "source": [
    "# HTTPS的优点及缺点"
   ]
  },
  {
   "cell_type": "markdown",
   "metadata": {},
   "source": [
    "尽管HTTPS并非绝对的安全，掌握根证书的机构、掌握加密算法的组织同样可以进行中间人形式的攻击，但HTTPS仍是现行架构下最安全的决绝方案，主要有以下好处：\n",
    "\n",
    "1. 使用HTTS协议可以认证用户和服务器，确保数据发送到正确的客户机和服务器；\n",
    "2. HTTPS协议是由SSL+HEEP协议构建的可进行加密传输、身份认证的网络协议，要比HTTP协议安全，可防止数据在传输过程中不被窃取、改变，确保数据的完整性；\n",
    "3. HTTPS是现行架构下最安全的解方案，虽然不是绝对安全，但它大幅增加了中间人攻击的成本；\n",
    "\n",
    "虽说HTTPS有很大的优势，但还是存在不足之处：\n",
    "\n",
    "1. HTTPS协议握手阶段比较费时，会是页面加载的时间延长近50%，增加10%到20%的耗电；\n",
    "2. HTTPS连接缓存不如HTTP高效，会增加数据开销和功效，甚至已有的安全措施也会受到影响；\n",
    "3. 需要费用，越强大的证书费用越高\n",
    "4. SSL证书通常需要绑定IP，不能在同一IP上绑定多个域名，IPV4的资源不可能支持这个消耗；\n"
   ]
  },
  {
   "cell_type": "markdown",
   "metadata": {},
   "source": [
    "# HTTP切换到HTTPS"
   ]
  },
  {
   "cell_type": "markdown",
   "metadata": {},
   "source": [
    "如果需要将网站从http切换到https到底该如何实现呢？\n",
    "\n",
    "这里需要将页面中所有的链接，例如js，css，图片等等链接都由http改为https。例如：http://www.baidu.com改为https://www.baidu.com\n",
    "\n",
    "BTW，这里虽然将http切换为了https，还是建议保留http。所以我们在切换的时候可以做http和https的兼容，具体实现方式是，去掉页面链接中的http头部，这样可以自动匹配http头和https头。例如：将http://www.baidu.com改为//www.baidu.com。然后当用户从http的入口进入访问页面时，页面就是http，如果用户是从https的入口进入访问页面，页面即使https的。"
   ]
  },
  {
   "cell_type": "code",
   "execution_count": null,
   "metadata": {},
   "outputs": [],
   "source": []
  }
 ],
 "metadata": {
  "kernelspec": {
   "display_name": "Python 3",
   "language": "python",
   "name": "python3"
  },
  "language_info": {
   "codemirror_mode": {
    "name": "ipython",
    "version": 3
   },
   "file_extension": ".py",
   "mimetype": "text/x-python",
   "name": "python",
   "nbconvert_exporter": "python",
   "pygments_lexer": "ipython3",
   "version": "3.6.7"
  }
 },
 "nbformat": 4,
 "nbformat_minor": 2
}
